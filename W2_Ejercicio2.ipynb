{
  "nbformat": 4,
  "nbformat_minor": 0,
  "metadata": {
    "kernelspec": {
      "name": "python3",
      "display_name": "Python 3.7",
      "language": "python"
    },
    "language_info": {
      "name": "python",
      "version": "3.7.9",
      "mimetype": "text/x-python",
      "codemirror_mode": {
        "name": "ipython",
        "version": 3
      },
      "pygments_lexer": "ipython3",
      "nbconvert_exporter": "python",
      "file_extension": ".py"
    },
    "colab": {
      "name": "Ejercicio2.ipynb",
      "provenance": [],
      "include_colab_link": true
    }
  },
  "cells": [
    {
      "cell_type": "markdown",
      "metadata": {
        "id": "view-in-github",
        "colab_type": "text"
      },
      "source": [
        "<a href=\"https://colab.research.google.com/github/NicoGangi5/Scalable_Machine_Learning_on_Big_Data_using_Apache_Spark/blob/main/W2_Ejercicio2.ipynb\" target=\"_parent\"><img src=\"https://colab.research.google.com/assets/colab-badge.svg\" alt=\"Open In Colab\"/></a>"
      ]
    },
    {
      "cell_type": "code",
      "metadata": {
        "id": "Ic7pm4ZxAWgU"
      },
      "source": [
        "from IPython.display import Markdown, display\n",
        "def printmd(string):\n",
        "    display(Markdown('# <span style=\"color:red\">'+string+'</span>'))\n",
        "\n",
        "\n",
        "if ('sc' in locals() or 'sc' in globals()):\n",
        "    printmd('<<<<<!!!!! It seems that you are running in a IBM Watson Studio Apache Spark Notebook. Please run it in an IBM Watson Studio Default Runtime (without Apache Spark) !!!!!>>>>>')\n"
      ],
      "execution_count": null,
      "outputs": []
    },
    {
      "cell_type": "code",
      "metadata": {
        "id": "arNN-ycHAWga",
        "outputId": "b39c6d49-d4ca-405b-a3bd-eee946e278f7"
      },
      "source": [
        "!pip install pyspark==2.4.5"
      ],
      "execution_count": null,
      "outputs": [
        {
          "output_type": "stream",
          "text": [
            "Requirement already satisfied: pyspark==2.4.5 in /opt/conda/envs/Python-3.7-main/lib/python3.7/site-packages (2.4.5)\r\n",
            "Requirement already satisfied: py4j==0.10.7 in /opt/conda/envs/Python-3.7-main/lib/python3.7/site-packages (from pyspark==2.4.5) (0.10.7)\r\n"
          ],
          "name": "stdout"
        }
      ]
    },
    {
      "cell_type": "code",
      "metadata": {
        "id": "yWT2_jPtAWge"
      },
      "source": [
        "try:\n",
        "    from pyspark import SparkContext, SparkConf\n",
        "    from pyspark.sql import SparkSession\n",
        "except ImportError as e:\n",
        "    printmd('<<<<<!!!!! Please restart your kernel after installing Apache Spark !!!!!>>>>>')"
      ],
      "execution_count": null,
      "outputs": []
    },
    {
      "cell_type": "code",
      "metadata": {
        "id": "9EqmegZxAWgh"
      },
      "source": [
        "sc = SparkContext.getOrCreate(SparkConf().setMaster(\"local[*]\"))\n",
        "\n",
        "spark = SparkSession \\\n",
        "    .builder \\\n",
        "    .getOrCreate()"
      ],
      "execution_count": null,
      "outputs": []
    },
    {
      "cell_type": "code",
      "metadata": {
        "id": "L58cCX0HAWgk"
      },
      "source": [
        "def gt50(i):\n",
        "    return i > 50"
      ],
      "execution_count": null,
      "outputs": []
    },
    {
      "cell_type": "code",
      "metadata": {
        "id": "DLvnPo9kAWgn",
        "outputId": "6161f1c5-905d-4a8f-db9a-f65377a432ee"
      },
      "source": [
        "print(gt50(4))\n",
        "print(gt50(51))"
      ],
      "execution_count": null,
      "outputs": [
        {
          "output_type": "stream",
          "text": [
            "False\n",
            "True\n"
          ],
          "name": "stdout"
        }
      ]
    },
    {
      "cell_type": "code",
      "metadata": {
        "id": "uGIJ3U4fAWgr"
      },
      "source": [
        "gt50 = lambda i: i > 50"
      ],
      "execution_count": null,
      "outputs": []
    },
    {
      "cell_type": "code",
      "metadata": {
        "id": "j1BhUnhhAWgu",
        "outputId": "e127bc0a-685f-419b-925a-f15b19df889b"
      },
      "source": [
        "print(gt50(4))\n",
        "print(gt50(51))"
      ],
      "execution_count": null,
      "outputs": [
        {
          "output_type": "stream",
          "text": [
            "False\n",
            "True\n"
          ],
          "name": "stdout"
        }
      ]
    },
    {
      "cell_type": "code",
      "metadata": {
        "id": "SXzt-AjvAWgw"
      },
      "source": [
        "#let's shuffle our list to make it a bit more interesting\n",
        "from random import shuffle\n",
        "l = list(range(100))\n",
        "shuffle(l)\n",
        "rdd = sc.parallelize(l)"
      ],
      "execution_count": null,
      "outputs": []
    },
    {
      "cell_type": "code",
      "metadata": {
        "id": "ahRlp_X3AWgz",
        "outputId": "a3abb76b-12ee-45a2-f004-88a2b10c5c89"
      },
      "source": [
        "rdd.filter(gt50).collect()"
      ],
      "execution_count": null,
      "outputs": [
        {
          "output_type": "execute_result",
          "data": {
            "text/plain": [
              "[84,\n",
              " 56,\n",
              " 59,\n",
              " 54,\n",
              " 90,\n",
              " 83,\n",
              " 61,\n",
              " 77,\n",
              " 69,\n",
              " 99,\n",
              " 62,\n",
              " 81,\n",
              " 93,\n",
              " 94,\n",
              " 78,\n",
              " 63,\n",
              " 91,\n",
              " 65,\n",
              " 79,\n",
              " 66,\n",
              " 64,\n",
              " 70,\n",
              " 57,\n",
              " 51,\n",
              " 98,\n",
              " 80,\n",
              " 52,\n",
              " 76,\n",
              " 87,\n",
              " 74,\n",
              " 75,\n",
              " 55,\n",
              " 60,\n",
              " 67,\n",
              " 85,\n",
              " 92,\n",
              " 88,\n",
              " 89,\n",
              " 95,\n",
              " 73,\n",
              " 86,\n",
              " 53,\n",
              " 58,\n",
              " 71,\n",
              " 82,\n",
              " 96,\n",
              " 97,\n",
              " 68,\n",
              " 72]"
            ]
          },
          "metadata": {
            "tags": []
          },
          "execution_count": 15
        }
      ]
    },
    {
      "cell_type": "code",
      "metadata": {
        "id": "v_Sn18VQAWg1",
        "outputId": "7136ccc2-c08d-4987-f5c3-b94299fc9f59"
      },
      "source": [
        "rdd.filter(lambda i: i > 50).collect()"
      ],
      "execution_count": null,
      "outputs": [
        {
          "output_type": "execute_result",
          "data": {
            "text/plain": [
              "[84,\n",
              " 56,\n",
              " 59,\n",
              " 54,\n",
              " 90,\n",
              " 83,\n",
              " 61,\n",
              " 77,\n",
              " 69,\n",
              " 99,\n",
              " 62,\n",
              " 81,\n",
              " 93,\n",
              " 94,\n",
              " 78,\n",
              " 63,\n",
              " 91,\n",
              " 65,\n",
              " 79,\n",
              " 66,\n",
              " 64,\n",
              " 70,\n",
              " 57,\n",
              " 51,\n",
              " 98,\n",
              " 80,\n",
              " 52,\n",
              " 76,\n",
              " 87,\n",
              " 74,\n",
              " 75,\n",
              " 55,\n",
              " 60,\n",
              " 67,\n",
              " 85,\n",
              " 92,\n",
              " 88,\n",
              " 89,\n",
              " 95,\n",
              " 73,\n",
              " 86,\n",
              " 53,\n",
              " 58,\n",
              " 71,\n",
              " 82,\n",
              " 96,\n",
              " 97,\n",
              " 68,\n",
              " 72]"
            ]
          },
          "metadata": {
            "tags": []
          },
          "execution_count": 18
        }
      ]
    },
    {
      "cell_type": "code",
      "metadata": {
        "id": "2CmBiHA8AWg3",
        "outputId": "dd04d98a-ed4b-4275-e045-d9528c2ecd3c"
      },
      "source": [
        "rdd.filter(lambda x: x > 50).filter(lambda x: x < 75).sum()"
      ],
      "execution_count": null,
      "outputs": [
        {
          "output_type": "execute_result",
          "data": {
            "text/plain": [
              "1500"
            ]
          },
          "metadata": {
            "tags": []
          },
          "execution_count": 22
        }
      ]
    }
  ]
}